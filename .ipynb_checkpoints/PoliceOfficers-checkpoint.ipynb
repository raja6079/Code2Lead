{
 "cells": [
  {
   "cell_type": "code",
   "execution_count": 1,
   "metadata": {
    "collapsed": true
   },
   "outputs": [],
   "source": [
    "# Import required libraries\n",
    "\n",
    "import numpy as np\n",
    "import pandas as pd"
   ]
  },
  {
   "cell_type": "code",
   "execution_count": 2,
   "metadata": {},
   "outputs": [],
   "source": [
    "# Load the dataset\n",
    "in_file = '868c0ef8-c-HEDatasetML/train.csv'\n",
    "full_data = pd.read_csv(in_file)"
   ]
  },
  {
   "cell_type": "code",
   "execution_count": 3,
   "metadata": {},
   "outputs": [
    {
     "data": {
      "text/html": [
       "<div>\n",
       "<style>\n",
       "    .dataframe thead tr:only-child th {\n",
       "        text-align: right;\n",
       "    }\n",
       "\n",
       "    .dataframe thead th {\n",
       "        text-align: left;\n",
       "    }\n",
       "\n",
       "    .dataframe tbody tr th {\n",
       "        vertical-align: top;\n",
       "    }\n",
       "</style>\n",
       "<table border=\"1\" class=\"dataframe\">\n",
       "  <thead>\n",
       "    <tr style=\"text-align: right;\">\n",
       "      <th></th>\n",
       "      <th>officer_id</th>\n",
       "      <th>race</th>\n",
       "      <th>sex</th>\n",
       "      <th>investigative_findings</th>\n",
       "      <th>cases_handled</th>\n",
       "      <th>complaint_summary</th>\n",
       "    </tr>\n",
       "  </thead>\n",
       "  <tbody>\n",
       "    <tr>\n",
       "      <th>0</th>\n",
       "      <td>17BR0001</td>\n",
       "      <td>White</td>\n",
       "      <td>Male</td>\n",
       "      <td>Other than Sustained Finding</td>\n",
       "      <td>25</td>\n",
       "      <td>The complainant, CN, 59/H/F,states that she wa...</td>\n",
       "    </tr>\n",
       "    <tr>\n",
       "      <th>1</th>\n",
       "      <td>17BR0002</td>\n",
       "      <td>Black</td>\n",
       "      <td>Female</td>\n",
       "      <td>Sustained Finding</td>\n",
       "      <td>18</td>\n",
       "      <td>The complainant, DH, 28/B/M, states that he di...</td>\n",
       "    </tr>\n",
       "    <tr>\n",
       "      <th>2</th>\n",
       "      <td>17BR0003</td>\n",
       "      <td>White</td>\n",
       "      <td>Male</td>\n",
       "      <td>Other than Sustained Finding</td>\n",
       "      <td>7</td>\n",
       "      <td>The complainant, AK, 39/B/M, states that he wa...</td>\n",
       "    </tr>\n",
       "    <tr>\n",
       "      <th>3</th>\n",
       "      <td>17BR0004</td>\n",
       "      <td>Black</td>\n",
       "      <td>Female</td>\n",
       "      <td>Sustained Finding</td>\n",
       "      <td>3</td>\n",
       "      <td>The complainant, EG, stated that she did not r...</td>\n",
       "    </tr>\n",
       "    <tr>\n",
       "      <th>4</th>\n",
       "      <td>17BR0005</td>\n",
       "      <td>Black</td>\n",
       "      <td>Male</td>\n",
       "      <td>Other than Sustained Finding</td>\n",
       "      <td>35</td>\n",
       "      <td>The complainant, IV, 41/B/F, states her ex-hus...</td>\n",
       "    </tr>\n",
       "  </tbody>\n",
       "</table>\n",
       "</div>"
      ],
      "text/plain": [
       "  officer_id   race     sex        investigative_findings cases_handled  \\\n",
       "0   17BR0001  White    Male  Other than Sustained Finding            25   \n",
       "1   17BR0002  Black  Female             Sustained Finding            18   \n",
       "2   17BR0003  White    Male  Other than Sustained Finding             7   \n",
       "3   17BR0004  Black  Female             Sustained Finding             3   \n",
       "4   17BR0005  Black    Male  Other than Sustained Finding            35   \n",
       "\n",
       "                                   complaint_summary  \n",
       "0  The complainant, CN, 59/H/F,states that she wa...  \n",
       "1  The complainant, DH, 28/B/M, states that he di...  \n",
       "2  The complainant, AK, 39/B/M, states that he wa...  \n",
       "3  The complainant, EG, stated that she did not r...  \n",
       "4  The complainant, IV, 41/B/F, states her ex-hus...  "
      ]
     },
     "metadata": {},
     "output_type": "display_data"
    }
   ],
   "source": [
    "# Store the 'target' feature in a new variable and remove it from the dataset\n",
    "targets = full_data['target']\n",
    "features = full_data.drop('target', axis = 1)"
   ]
  },
  {
   "cell_type": "code",
   "execution_count": 4,
   "metadata": {},
   "outputs": [],
   "source": [
    "from sklearn import preprocessing\n",
    "le = preprocessing.LabelEncoder()\n",
    "le.fit(targets)\n",
    "targetFinal = le.transform(targets)"
   ]
  },
  {
   "cell_type": "code",
   "execution_count": 5,
   "metadata": {},
   "outputs": [
    {
     "data": {
      "text/plain": [
       "(336, 3059)"
      ]
     },
     "execution_count": 5,
     "metadata": {},
     "output_type": "execute_result"
    }
   ],
   "source": [
    "from sklearn.feature_extraction.text import CountVectorizer\n",
    "from sklearn.feature_extraction.text import TfidfTransformer\n",
    "\n",
    "complaintSummary = features['complaint_summary']\n",
    "vectorizer = CountVectorizer()\n",
    "complaintFeature = vectorizer.fit_transform(complaintSummary)\n",
    "\n",
    "tfidf_transformer = TfidfTransformer()\n",
    "featuresFinal = tfidf_transformer.fit_transform(complaintFeature)"
   ]
  },
  {
   "cell_type": "code",
   "execution_count": 6,
   "metadata": {},
   "outputs": [],
   "source": [
    "# Use a random forest classifier to learn and predict\n",
    "from sklearn.ensemble import RandomForestClassifier\n",
    "\n",
    "model = RandomForestClassifier(n_estimators=100,random_state=392)\n",
    "model = model.fit(featuresFinal, targetFinal)"
   ]
  },
  {
   "cell_type": "code",
   "execution_count": 7,
   "metadata": {
    "collapsed": true
   },
   "outputs": [],
   "source": [
    "# import the test file\n",
    "test_file = '868c0ef8-c-HEDatasetML/test.csv'\n",
    "testData = pd.read_csv(test_file)\n",
    "\n",
    "testFeatures = testData['complaint_summary']\n",
    "testComplaintFeature = vectorizer.transform(testFeatures)\n",
    "testtfidf = tfidf_transformer.transform(testComplaintFeature)\n",
    "\n",
    "predictions = model.predict(testtfidf)"
   ]
  },
  {
   "cell_type": "code",
   "execution_count": 32,
   "metadata": {},
   "outputs": [],
   "source": [
    "import csv\n",
    "\n",
    "with open('868c0ef8-c-HEDatasetML/submit.csv', 'w', newline='') as csvfile:\n",
    "    fieldnames = ['officer_id', 'target']\n",
    "    writer = csv.DictWriter(csvfile, fieldnames=fieldnames)\n",
    "    writer.writeheader()\n",
    "    for i in range(len(predictions)):\n",
    "        writer.writerow({'officer_id': testData['officer_id'][i], 'target': le.inverse_transform(predictions[i])})"
   ]
  }
 ],
 "metadata": {
  "kernelspec": {
   "display_name": "Python 3",
   "language": "python",
   "name": "python3"
  },
  "language_info": {
   "codemirror_mode": {
    "name": "ipython",
    "version": 3
   },
   "file_extension": ".py",
   "mimetype": "text/x-python",
   "name": "python",
   "nbconvert_exporter": "python",
   "pygments_lexer": "ipython3",
   "version": "3.5.4"
  }
 },
 "nbformat": 4,
 "nbformat_minor": 2
}
